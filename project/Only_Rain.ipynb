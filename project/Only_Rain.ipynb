{
 "cells": [
  {
   "cell_type": "code",
   "execution_count": 275,
   "id": "3e129cec",
   "metadata": {},
   "outputs": [],
   "source": [
    "import numpy as np\n",
    "import pandas as pd\n",
    "import matplotlib.pyplot as plt\n",
    "import seaborn as sns\n",
    "import tensorflow as tf\n",
    "from tensorflow import keras"
   ]
  },
  {
   "cell_type": "markdown",
   "id": "6f59bd3e",
   "metadata": {},
   "source": [
    "# Load Dataset"
   ]
  },
  {
   "cell_type": "code",
   "execution_count": 276,
   "id": "e8b67ece",
   "metadata": {},
   "outputs": [],
   "source": [
    "dataset = pd.read_csv('data\\weather_dataset.csv', index_col='date', parse_dates=True)"
   ]
  },
  {
   "cell_type": "code",
   "execution_count": 277,
   "id": "ab8ab187",
   "metadata": {},
   "outputs": [
    {
     "data": {
      "text/html": [
       "<div>\n",
       "<style scoped>\n",
       "    .dataframe tbody tr th:only-of-type {\n",
       "        vertical-align: middle;\n",
       "    }\n",
       "\n",
       "    .dataframe tbody tr th {\n",
       "        vertical-align: top;\n",
       "    }\n",
       "\n",
       "    .dataframe thead th {\n",
       "        text-align: right;\n",
       "    }\n",
       "</style>\n",
       "<table border=\"1\" class=\"dataframe\">\n",
       "  <thead>\n",
       "    <tr style=\"text-align: right;\">\n",
       "      <th></th>\n",
       "      <th>Ttb</th>\n",
       "      <th>Tx</th>\n",
       "      <th>Tn</th>\n",
       "      <th>R</th>\n",
       "      <th>Utb</th>\n",
       "      <th>Un</th>\n",
       "    </tr>\n",
       "    <tr>\n",
       "      <th>date</th>\n",
       "      <th></th>\n",
       "      <th></th>\n",
       "      <th></th>\n",
       "      <th></th>\n",
       "      <th></th>\n",
       "      <th></th>\n",
       "    </tr>\n",
       "  </thead>\n",
       "  <tbody>\n",
       "    <tr>\n",
       "      <th>2015-01-01</th>\n",
       "      <td>14.7</td>\n",
       "      <td>25.3</td>\n",
       "      <td>9.3</td>\n",
       "      <td>NaN</td>\n",
       "      <td>75.0</td>\n",
       "      <td>33.0</td>\n",
       "    </tr>\n",
       "    <tr>\n",
       "      <th>2015-01-02</th>\n",
       "      <td>13.9</td>\n",
       "      <td>23.5</td>\n",
       "      <td>7.5</td>\n",
       "      <td>NaN</td>\n",
       "      <td>75.8</td>\n",
       "      <td>37.0</td>\n",
       "    </tr>\n",
       "    <tr>\n",
       "      <th>2015-01-03</th>\n",
       "      <td>14.1</td>\n",
       "      <td>21.0</td>\n",
       "      <td>9.5</td>\n",
       "      <td>NaN</td>\n",
       "      <td>83.5</td>\n",
       "      <td>54.0</td>\n",
       "    </tr>\n",
       "    <tr>\n",
       "      <th>2015-01-04</th>\n",
       "      <td>16.5</td>\n",
       "      <td>18.8</td>\n",
       "      <td>14.6</td>\n",
       "      <td>NaN</td>\n",
       "      <td>88.3</td>\n",
       "      <td>83.0</td>\n",
       "    </tr>\n",
       "    <tr>\n",
       "      <th>2015-01-05</th>\n",
       "      <td>19.0</td>\n",
       "      <td>22.6</td>\n",
       "      <td>16.5</td>\n",
       "      <td>0.0</td>\n",
       "      <td>87.0</td>\n",
       "      <td>72.0</td>\n",
       "    </tr>\n",
       "  </tbody>\n",
       "</table>\n",
       "</div>"
      ],
      "text/plain": [
       "             Ttb    Tx    Tn    R   Utb    Un\n",
       "date                                         \n",
       "2015-01-01  14.7  25.3   9.3  NaN  75.0  33.0\n",
       "2015-01-02  13.9  23.5   7.5  NaN  75.8  37.0\n",
       "2015-01-03  14.1  21.0   9.5  NaN  83.5  54.0\n",
       "2015-01-04  16.5  18.8  14.6  NaN  88.3  83.0\n",
       "2015-01-05  19.0  22.6  16.5  0.0  87.0  72.0"
      ]
     },
     "execution_count": 277,
     "metadata": {},
     "output_type": "execute_result"
    }
   ],
   "source": [
    "dataset.head()"
   ]
  },
  {
   "cell_type": "code",
   "execution_count": 278,
   "id": "3e2ed400",
   "metadata": {
    "scrolled": true
   },
   "outputs": [
    {
     "data": {
      "text/html": [
       "<div>\n",
       "<style scoped>\n",
       "    .dataframe tbody tr th:only-of-type {\n",
       "        vertical-align: middle;\n",
       "    }\n",
       "\n",
       "    .dataframe tbody tr th {\n",
       "        vertical-align: top;\n",
       "    }\n",
       "\n",
       "    .dataframe thead th {\n",
       "        text-align: right;\n",
       "    }\n",
       "</style>\n",
       "<table border=\"1\" class=\"dataframe\">\n",
       "  <thead>\n",
       "    <tr style=\"text-align: right;\">\n",
       "      <th></th>\n",
       "      <th>Ttb</th>\n",
       "      <th>Tx</th>\n",
       "      <th>Tn</th>\n",
       "      <th>R</th>\n",
       "      <th>Utb</th>\n",
       "      <th>Un</th>\n",
       "    </tr>\n",
       "    <tr>\n",
       "      <th>date</th>\n",
       "      <th></th>\n",
       "      <th></th>\n",
       "      <th></th>\n",
       "      <th></th>\n",
       "      <th></th>\n",
       "      <th></th>\n",
       "    </tr>\n",
       "  </thead>\n",
       "  <tbody>\n",
       "    <tr>\n",
       "      <th>2020-12-27</th>\n",
       "      <td>20.3</td>\n",
       "      <td>24.8</td>\n",
       "      <td>17.3</td>\n",
       "      <td>NaN</td>\n",
       "      <td>83.0</td>\n",
       "      <td>67.0</td>\n",
       "    </tr>\n",
       "    <tr>\n",
       "      <th>2020-12-28</th>\n",
       "      <td>20.7</td>\n",
       "      <td>23.6</td>\n",
       "      <td>18.8</td>\n",
       "      <td>NaN</td>\n",
       "      <td>88.0</td>\n",
       "      <td>77.0</td>\n",
       "    </tr>\n",
       "    <tr>\n",
       "      <th>2020-12-29</th>\n",
       "      <td>21.4</td>\n",
       "      <td>25.8</td>\n",
       "      <td>19.9</td>\n",
       "      <td>NaN</td>\n",
       "      <td>86.0</td>\n",
       "      <td>74.0</td>\n",
       "    </tr>\n",
       "    <tr>\n",
       "      <th>2020-12-30</th>\n",
       "      <td>17.5</td>\n",
       "      <td>20.9</td>\n",
       "      <td>16.2</td>\n",
       "      <td>NaN</td>\n",
       "      <td>50.0</td>\n",
       "      <td>42.0</td>\n",
       "    </tr>\n",
       "    <tr>\n",
       "      <th>2020-12-31</th>\n",
       "      <td>13.6</td>\n",
       "      <td>19.0</td>\n",
       "      <td>12.1</td>\n",
       "      <td>NaN</td>\n",
       "      <td>57.0</td>\n",
       "      <td>41.0</td>\n",
       "    </tr>\n",
       "  </tbody>\n",
       "</table>\n",
       "</div>"
      ],
      "text/plain": [
       "             Ttb    Tx    Tn   R   Utb    Un\n",
       "date                                        \n",
       "2020-12-27  20.3  24.8  17.3 NaN  83.0  67.0\n",
       "2020-12-28  20.7  23.6  18.8 NaN  88.0  77.0\n",
       "2020-12-29  21.4  25.8  19.9 NaN  86.0  74.0\n",
       "2020-12-30  17.5  20.9  16.2 NaN  50.0  42.0\n",
       "2020-12-31  13.6  19.0  12.1 NaN  57.0  41.0"
      ]
     },
     "execution_count": 278,
     "metadata": {},
     "output_type": "execute_result"
    }
   ],
   "source": [
    "dataset.tail()"
   ]
  },
  {
   "cell_type": "markdown",
   "id": "f24fe702",
   "metadata": {},
   "source": [
    "# Data Preprocessing"
   ]
  },
  {
   "cell_type": "code",
   "execution_count": 279,
   "id": "06c7dbca",
   "metadata": {
    "scrolled": false
   },
   "outputs": [
    {
     "name": "stdout",
     "output_type": "stream",
     "text": [
      "<class 'pandas.core.frame.DataFrame'>\n",
      "DatetimeIndex: 2192 entries, 2015-01-01 to 2020-12-31\n",
      "Data columns (total 6 columns):\n",
      " #   Column  Non-Null Count  Dtype  \n",
      "---  ------  --------------  -----  \n",
      " 0   Ttb     2192 non-null   float64\n",
      " 1   Tx      2192 non-null   float64\n",
      " 2   Tn      2192 non-null   float64\n",
      " 3   R       988 non-null    float64\n",
      " 4   Utb     2192 non-null   float64\n",
      " 5   Un      2192 non-null   float64\n",
      "dtypes: float64(6)\n",
      "memory usage: 119.9 KB\n"
     ]
    }
   ],
   "source": [
    "dataset.info()"
   ]
  },
  {
   "cell_type": "markdown",
   "id": "7a2c0a47",
   "metadata": {},
   "source": [
    "### Chuyển cột mưa (R) về 0 với 1"
   ]
  },
  {
   "cell_type": "code",
   "execution_count": 280,
   "id": "fb983c4f",
   "metadata": {},
   "outputs": [],
   "source": [
    "dataset = dataset.fillna(-1)"
   ]
  },
  {
   "cell_type": "code",
   "execution_count": 281,
   "id": "1a984133",
   "metadata": {},
   "outputs": [
    {
     "data": {
      "text/html": [
       "<div>\n",
       "<style scoped>\n",
       "    .dataframe tbody tr th:only-of-type {\n",
       "        vertical-align: middle;\n",
       "    }\n",
       "\n",
       "    .dataframe tbody tr th {\n",
       "        vertical-align: top;\n",
       "    }\n",
       "\n",
       "    .dataframe thead th {\n",
       "        text-align: right;\n",
       "    }\n",
       "</style>\n",
       "<table border=\"1\" class=\"dataframe\">\n",
       "  <thead>\n",
       "    <tr style=\"text-align: right;\">\n",
       "      <th></th>\n",
       "      <th>Ttb</th>\n",
       "      <th>Tx</th>\n",
       "      <th>Tn</th>\n",
       "      <th>R</th>\n",
       "      <th>Utb</th>\n",
       "      <th>Un</th>\n",
       "    </tr>\n",
       "    <tr>\n",
       "      <th>date</th>\n",
       "      <th></th>\n",
       "      <th></th>\n",
       "      <th></th>\n",
       "      <th></th>\n",
       "      <th></th>\n",
       "      <th></th>\n",
       "    </tr>\n",
       "  </thead>\n",
       "  <tbody>\n",
       "    <tr>\n",
       "      <th>2015-01-01</th>\n",
       "      <td>14.7</td>\n",
       "      <td>25.3</td>\n",
       "      <td>9.3</td>\n",
       "      <td>0.0</td>\n",
       "      <td>75.0</td>\n",
       "      <td>33.0</td>\n",
       "    </tr>\n",
       "    <tr>\n",
       "      <th>2015-01-02</th>\n",
       "      <td>13.9</td>\n",
       "      <td>23.5</td>\n",
       "      <td>7.5</td>\n",
       "      <td>0.0</td>\n",
       "      <td>75.8</td>\n",
       "      <td>37.0</td>\n",
       "    </tr>\n",
       "    <tr>\n",
       "      <th>2015-01-03</th>\n",
       "      <td>14.1</td>\n",
       "      <td>21.0</td>\n",
       "      <td>9.5</td>\n",
       "      <td>0.0</td>\n",
       "      <td>83.5</td>\n",
       "      <td>54.0</td>\n",
       "    </tr>\n",
       "    <tr>\n",
       "      <th>2015-01-04</th>\n",
       "      <td>16.5</td>\n",
       "      <td>18.8</td>\n",
       "      <td>14.6</td>\n",
       "      <td>0.0</td>\n",
       "      <td>88.3</td>\n",
       "      <td>83.0</td>\n",
       "    </tr>\n",
       "    <tr>\n",
       "      <th>2015-01-05</th>\n",
       "      <td>19.0</td>\n",
       "      <td>22.6</td>\n",
       "      <td>16.5</td>\n",
       "      <td>1.0</td>\n",
       "      <td>87.0</td>\n",
       "      <td>72.0</td>\n",
       "    </tr>\n",
       "  </tbody>\n",
       "</table>\n",
       "</div>"
      ],
      "text/plain": [
       "             Ttb    Tx    Tn    R   Utb    Un\n",
       "date                                         \n",
       "2015-01-01  14.7  25.3   9.3  0.0  75.0  33.0\n",
       "2015-01-02  13.9  23.5   7.5  0.0  75.8  37.0\n",
       "2015-01-03  14.1  21.0   9.5  0.0  83.5  54.0\n",
       "2015-01-04  16.5  18.8  14.6  0.0  88.3  83.0\n",
       "2015-01-05  19.0  22.6  16.5  1.0  87.0  72.0"
      ]
     },
     "execution_count": 281,
     "metadata": {},
     "output_type": "execute_result"
    }
   ],
   "source": [
    "#labling rain column\n",
    "for i in range(len(dataset)):\n",
    "    if  dataset['R'][i] == -1:\n",
    "        dataset['R'][i] = 0\n",
    "    else:\n",
    "        dataset['R'][i] = 1\n",
    "dataset.head()\n",
    "\n"
   ]
  },
  {
   "cell_type": "code",
   "execution_count": 282,
   "id": "5d8802bb",
   "metadata": {},
   "outputs": [
    {
     "data": {
      "text/html": [
       "<div>\n",
       "<style scoped>\n",
       "    .dataframe tbody tr th:only-of-type {\n",
       "        vertical-align: middle;\n",
       "    }\n",
       "\n",
       "    .dataframe tbody tr th {\n",
       "        vertical-align: top;\n",
       "    }\n",
       "\n",
       "    .dataframe thead th {\n",
       "        text-align: right;\n",
       "    }\n",
       "</style>\n",
       "<table border=\"1\" class=\"dataframe\">\n",
       "  <thead>\n",
       "    <tr style=\"text-align: right;\">\n",
       "      <th></th>\n",
       "      <th>Ttb</th>\n",
       "      <th>Tx</th>\n",
       "      <th>Tn</th>\n",
       "      <th>R</th>\n",
       "      <th>Utb</th>\n",
       "      <th>Un</th>\n",
       "    </tr>\n",
       "  </thead>\n",
       "  <tbody>\n",
       "    <tr>\n",
       "      <th>count</th>\n",
       "      <td>2192.000000</td>\n",
       "      <td>2192.000000</td>\n",
       "      <td>2192.000000</td>\n",
       "      <td>2192.00000</td>\n",
       "      <td>2192.000000</td>\n",
       "      <td>2192.000000</td>\n",
       "    </tr>\n",
       "    <tr>\n",
       "      <th>mean</th>\n",
       "      <td>23.350228</td>\n",
       "      <td>28.020073</td>\n",
       "      <td>20.466834</td>\n",
       "      <td>0.45073</td>\n",
       "      <td>83.805246</td>\n",
       "      <td>67.428832</td>\n",
       "    </tr>\n",
       "    <tr>\n",
       "      <th>std</th>\n",
       "      <td>5.042623</td>\n",
       "      <td>5.702109</td>\n",
       "      <td>4.949226</td>\n",
       "      <td>0.49768</td>\n",
       "      <td>6.906062</td>\n",
       "      <td>13.725397</td>\n",
       "    </tr>\n",
       "    <tr>\n",
       "      <th>min</th>\n",
       "      <td>6.100000</td>\n",
       "      <td>8.000000</td>\n",
       "      <td>2.500000</td>\n",
       "      <td>0.00000</td>\n",
       "      <td>50.000000</td>\n",
       "      <td>23.000000</td>\n",
       "    </tr>\n",
       "    <tr>\n",
       "      <th>25%</th>\n",
       "      <td>19.600000</td>\n",
       "      <td>24.000000</td>\n",
       "      <td>17.100000</td>\n",
       "      <td>0.00000</td>\n",
       "      <td>80.000000</td>\n",
       "      <td>59.000000</td>\n",
       "    </tr>\n",
       "    <tr>\n",
       "      <th>50%</th>\n",
       "      <td>24.500000</td>\n",
       "      <td>29.000000</td>\n",
       "      <td>21.600000</td>\n",
       "      <td>0.00000</td>\n",
       "      <td>84.000000</td>\n",
       "      <td>67.000000</td>\n",
       "    </tr>\n",
       "    <tr>\n",
       "      <th>75%</th>\n",
       "      <td>27.500000</td>\n",
       "      <td>32.800000</td>\n",
       "      <td>24.600000</td>\n",
       "      <td>1.00000</td>\n",
       "      <td>89.000000</td>\n",
       "      <td>77.000000</td>\n",
       "    </tr>\n",
       "    <tr>\n",
       "      <th>max</th>\n",
       "      <td>31.500000</td>\n",
       "      <td>39.000000</td>\n",
       "      <td>28.200000</td>\n",
       "      <td>1.00000</td>\n",
       "      <td>99.000000</td>\n",
       "      <td>98.000000</td>\n",
       "    </tr>\n",
       "  </tbody>\n",
       "</table>\n",
       "</div>"
      ],
      "text/plain": [
       "               Ttb           Tx           Tn           R          Utb  \\\n",
       "count  2192.000000  2192.000000  2192.000000  2192.00000  2192.000000   \n",
       "mean     23.350228    28.020073    20.466834     0.45073    83.805246   \n",
       "std       5.042623     5.702109     4.949226     0.49768     6.906062   \n",
       "min       6.100000     8.000000     2.500000     0.00000    50.000000   \n",
       "25%      19.600000    24.000000    17.100000     0.00000    80.000000   \n",
       "50%      24.500000    29.000000    21.600000     0.00000    84.000000   \n",
       "75%      27.500000    32.800000    24.600000     1.00000    89.000000   \n",
       "max      31.500000    39.000000    28.200000     1.00000    99.000000   \n",
       "\n",
       "                Un  \n",
       "count  2192.000000  \n",
       "mean     67.428832  \n",
       "std      13.725397  \n",
       "min      23.000000  \n",
       "25%      59.000000  \n",
       "50%      67.000000  \n",
       "75%      77.000000  \n",
       "max      98.000000  "
      ]
     },
     "execution_count": 282,
     "metadata": {},
     "output_type": "execute_result"
    }
   ],
   "source": [
    "dataset.describe()"
   ]
  },
  {
   "cell_type": "code",
   "execution_count": null,
   "id": "e0c888ae",
   "metadata": {},
   "outputs": [],
   "source": []
  },
  {
   "cell_type": "code",
   "execution_count": null,
   "id": "83001db8",
   "metadata": {},
   "outputs": [],
   "source": []
  },
  {
   "cell_type": "code",
   "execution_count": null,
   "id": "c22aa0a1",
   "metadata": {},
   "outputs": [],
   "source": []
  },
  {
   "cell_type": "code",
   "execution_count": null,
   "id": "6b551945",
   "metadata": {},
   "outputs": [],
   "source": []
  },
  {
   "cell_type": "code",
   "execution_count": 283,
   "id": "4c7a5564",
   "metadata": {},
   "outputs": [],
   "source": [
    "#dataset.drop('R', axis=1, inplace=True)\n",
    "#dataset.head()"
   ]
  },
  {
   "cell_type": "markdown",
   "id": "647f981e",
   "metadata": {},
   "source": [
    "### Scaling dataset"
   ]
  },
  {
   "cell_type": "code",
   "execution_count": 284,
   "id": "d73ebae8",
   "metadata": {},
   "outputs": [],
   "source": [
    "from sklearn.preprocessing import MinMaxScaler"
   ]
  },
  {
   "cell_type": "code",
   "execution_count": 285,
   "id": "d6fb2ecb",
   "metadata": {},
   "outputs": [],
   "source": [
    "scaler = MinMaxScaler()\n",
    "dataset_scaled = scaler.fit_transform(dataset)"
   ]
  },
  {
   "cell_type": "code",
   "execution_count": 286,
   "id": "9bd0d8e6",
   "metadata": {},
   "outputs": [
    {
     "data": {
      "text/plain": [
       "2192"
      ]
     },
     "execution_count": 286,
     "metadata": {},
     "output_type": "execute_result"
    }
   ],
   "source": [
    "len(dataset_scaled)"
   ]
  },
  {
   "cell_type": "markdown",
   "id": "53ccffc2",
   "metadata": {},
   "source": [
    "# Splitting Dataset"
   ]
  },
  {
   "cell_type": "code",
   "execution_count": 287,
   "id": "8b9e2f1d",
   "metadata": {},
   "outputs": [],
   "source": [
    "from keras.preprocessing.sequence import TimeseriesGenerator"
   ]
  },
  {
   "cell_type": "code",
   "execution_count": 288,
   "id": "c1ac796c",
   "metadata": {},
   "outputs": [
    {
     "data": {
      "text/plain": [
       "(1752,)"
      ]
     },
     "execution_count": 288,
     "metadata": {},
     "output_type": "execute_result"
    }
   ],
   "source": [
    "rate = 0.2\n",
    "X, y = dataset_scaled[:-1], dataset_scaled[1:]\n",
    "pos_split = int(len(X)*(1 - rate))\n",
    "X_train, X_test, y_train, y_test = X[:pos_split], X[pos_split:], y[:pos_split, 3], y[pos_split:, 3] \n",
    "y_train.shape"
   ]
  },
  {
   "cell_type": "code",
   "execution_count": 289,
   "id": "6d342031",
   "metadata": {},
   "outputs": [],
   "source": [
    "from keras.models import Sequential\n",
    "from keras.layers import Dense"
   ]
  },
  {
   "cell_type": "code",
   "execution_count": 290,
   "id": "23ecf1ae",
   "metadata": {
    "scrolled": false
   },
   "outputs": [
    {
     "name": "stdout",
     "output_type": "stream",
     "text": [
      "Model: \"sequential_28\"\n",
      "_________________________________________________________________\n",
      " Layer (type)                Output Shape              Param #   \n",
      "=================================================================\n",
      " dense_63 (Dense)            (None, 32)                224       \n",
      "                                                                 \n",
      " dense_64 (Dense)            (None, 1)                 33        \n",
      "                                                                 \n",
      "=================================================================\n",
      "Total params: 257\n",
      "Trainable params: 257\n",
      "Non-trainable params: 0\n",
      "_________________________________________________________________\n"
     ]
    }
   ],
   "source": [
    "n_features = 6\n",
    "model = Sequential()\n",
    "model.add(Dense(units=32, activation='relu', input_shape=(6,)))\n",
    "#model.add(Dense(units=16, activation='relu'))\n",
    "#model.add(Dense(units=16, activation='relu'))\n",
    "model.add(Dense(units=1, activation='sigmoid'))\n",
    "model.compile(optimizer='adam', loss='binary_crossentropy', metrics=['accuracy'])\n",
    "model.summary()"
   ]
  },
  {
   "cell_type": "code",
   "execution_count": 291,
   "id": "b3f46f73",
   "metadata": {},
   "outputs": [
    {
     "name": "stdout",
     "output_type": "stream",
     "text": [
      "55/55 [==============================] - 0s 1ms/step - loss: 0.6587 - accuracy: 0.6655\n"
     ]
    },
    {
     "data": {
      "text/plain": [
       "<keras.callbacks.History at 0x1dead5faf20>"
      ]
     },
     "execution_count": 291,
     "metadata": {},
     "output_type": "execute_result"
    }
   ],
   "source": [
    "model.fit(x=X_train, y=y_train, epochs = 1, verbose =1)"
   ]
  },
  {
   "cell_type": "code",
   "execution_count": 292,
   "id": "9c7b2b9b",
   "metadata": {
    "scrolled": true
   },
   "outputs": [
    {
     "data": {
      "text/plain": [
       "[<matplotlib.lines.Line2D at 0x1dead6e0340>]"
      ]
     },
     "execution_count": 292,
     "metadata": {},
     "output_type": "execute_result"
    },
    {
     "data": {
      "image/png": "[encoded data removed]",
      "text/plain": [
       "<Figure size 640x480 with 1 Axes>"
      ]
     },
     "metadata": {},
     "output_type": "display_data"
    }
   ],
   "source": [
    "plt.plot(model.history.history['loss'])"
   ]
  },
  {
   "cell_type": "code",
   "execution_count": 293,
   "id": "603f257e",
   "metadata": {},
   "outputs": [
    {
     "data": {
      "text/plain": [
       "[0.555167019367218, 1.0]"
      ]
     },
     "execution_count": 293,
     "metadata": {},
     "output_type": "execute_result"
    }
   ],
   "source": [
    "a, b = X_test[1:], y_test[:-1]\n",
    "#print(a,b)\n",
    "model.evaluate(a, b, verbose=0)"
   ]
  },
  {
   "cell_type": "markdown",
   "id": "86bb513e",
   "metadata": {},
   "source": [
    "# Test"
   ]
  },
  {
   "cell_type": "code",
   "execution_count": 294,
   "id": "5258af59",
   "metadata": {},
   "outputs": [
    {
     "name": "stdout",
     "output_type": "stream",
     "text": [
      "14/14 [==============================] - 0s 2ms/step\n",
      "(439,) (439,)\n"
     ]
    }
   ],
   "source": [
    "R_pred = model.predict(X_test)\n",
    "R_real = y_test\n",
    "\n",
    "print(np.shape(R_real), np.shape(R_real))"
   ]
  },
  {
   "cell_type": "code",
   "execution_count": 295,
   "id": "b81f0716",
   "metadata": {},
   "outputs": [
    {
     "data": {
      "text/plain": [
       "(439, 1)"
      ]
     },
     "execution_count": 295,
     "metadata": {},
     "output_type": "execute_result"
    }
   ],
   "source": [
    "np.shape(y_predict)"
   ]
  },
  {
   "cell_type": "markdown",
   "id": "64c1d898",
   "metadata": {},
   "source": [
    "# Evaluating"
   ]
  },
  {
   "cell_type": "markdown",
   "id": "f48b5a32",
   "metadata": {},
   "source": [
    "### R (Rain)"
   ]
  },
  {
   "cell_type": "code",
   "execution_count": 296,
   "id": "96d2b76c",
   "metadata": {},
   "outputs": [],
   "source": [
    "#for i in range(len(R_pred)):\n",
    "#    if R_pred[i] < 0.5:\n",
    "#        R_pred[i] = 0\n",
    "#    else:\n",
    "#        R_pred[i] = 1\n",
    "        \n",
    "#np.shape(R)"
   ]
  },
  {
   "cell_type": "code",
   "execution_count": 297,
   "id": "ca3735e8",
   "metadata": {},
   "outputs": [
    {
     "data": {
      "text/plain": [
       "1.0"
      ]
     },
     "execution_count": 297,
     "metadata": {},
     "output_type": "execute_result"
    }
   ],
   "source": [
    "BA = tf.keras.metrics.BinaryAccuracy(threshold=0.5)\n",
    "BA.update_state(R_real[:-1], R_pred[1:])\n",
    "R_Accuracy = BA.result().numpy()\n",
    "R_Accuracy"
   ]
  },
  {
   "cell_type": "code",
   "execution_count": 298,
   "id": "20c6c96c",
   "metadata": {},
   "outputs": [
    {
     "name": "stdout",
     "output_type": "stream",
     "text": [
      "Độ chính xác khi dự đoán có mưa hay không 1.0\n"
     ]
    }
   ],
   "source": [
    "print(f'Độ chính xác khi dự đoán có mưa hay không {R_Accuracy}')"
   ]
  },
  {
   "cell_type": "code",
   "execution_count": null,
   "id": "35b4110c",
   "metadata": {},
   "outputs": [],
   "source": []
  },
  {
   "cell_type": "code",
   "execution_count": null,
   "id": "d2ba9862",
   "metadata": {},
   "outputs": [],
   "source": []
  },
  {
   "cell_type": "code",
   "execution_count": null,
   "id": "3f76b889",
   "metadata": {},
   "outputs": [],
   "source": []
  }
 ],
 "metadata": {
  "kernelspec": {
   "display_name": "Python 3 (ipykernel)",
   "language": "python",
   "name": "python3"
  },
  "language_info": {
   "codemirror_mode": {
    "name": "ipython",
    "version": 3
   },
   "file_extension": ".py",
   "mimetype": "text/x-python",
   "name": "python",
   "nbconvert_exporter": "python",
   "pygments_lexer": "ipython3",
   "version": "3.10.6"
  }
 },
 "nbformat": 4,
 "nbformat_minor": 5
}
