{
 "cells": [
  {
   "cell_type": "code",
   "execution_count": 41,
   "id": "3e129cec",
   "metadata": {},
   "outputs": [],
   "source": [
    "import numpy as np\n",
    "import pandas as pd\n",
    "import matplotlib.pyplot as plt\n",
    "import seaborn as sns\n",
    "import tensorflow as tf\n",
    "from tensorflow import keras"
   ]
  },
  {
   "cell_type": "markdown",
   "id": "6f59bd3e",
   "metadata": {},
   "source": [
    "# Load Dataset"
   ]
  },
  {
   "cell_type": "code",
   "execution_count": 42,
   "id": "e8b67ece",
   "metadata": {},
   "outputs": [],
   "source": [
    "dataset = pd.read_csv('data\\weather_dataset.csv', index_col='date', parse_dates=True)"
   ]
  },
  {
   "cell_type": "code",
   "execution_count": 70,
   "id": "ab8ab187",
   "metadata": {},
   "outputs": [
    {
     "data": {
      "text/html": [
       "<div>\n",
       "<style scoped>\n",
       "    .dataframe tbody tr th:only-of-type {\n",
       "        vertical-align: middle;\n",
       "    }\n",
       "\n",
       "    .dataframe tbody tr th {\n",
       "        vertical-align: top;\n",
       "    }\n",
       "\n",
       "    .dataframe thead th {\n",
       "        text-align: right;\n",
       "    }\n",
       "</style>\n",
       "<table border=\"1\" class=\"dataframe\">\n",
       "  <thead>\n",
       "    <tr style=\"text-align: right;\">\n",
       "      <th></th>\n",
       "      <th>Ttb</th>\n",
       "      <th>Tx</th>\n",
       "      <th>Tn</th>\n",
       "      <th>R</th>\n",
       "      <th>Utb</th>\n",
       "      <th>Un</th>\n",
       "      <th>wind</th>\n",
       "    </tr>\n",
       "    <tr>\n",
       "      <th>date</th>\n",
       "      <th></th>\n",
       "      <th></th>\n",
       "      <th></th>\n",
       "      <th></th>\n",
       "      <th></th>\n",
       "      <th></th>\n",
       "      <th></th>\n",
       "    </tr>\n",
       "  </thead>\n",
       "  <tbody>\n",
       "    <tr>\n",
       "      <th>2015-01-01</th>\n",
       "      <td>14.7</td>\n",
       "      <td>25.3</td>\n",
       "      <td>9.3</td>\n",
       "      <td>0.0</td>\n",
       "      <td>75.0</td>\n",
       "      <td>33.0</td>\n",
       "      <td>2.0</td>\n",
       "    </tr>\n",
       "    <tr>\n",
       "      <th>2015-01-02</th>\n",
       "      <td>13.9</td>\n",
       "      <td>23.5</td>\n",
       "      <td>7.5</td>\n",
       "      <td>0.0</td>\n",
       "      <td>75.8</td>\n",
       "      <td>37.0</td>\n",
       "      <td>4.0</td>\n",
       "    </tr>\n",
       "    <tr>\n",
       "      <th>2015-01-03</th>\n",
       "      <td>14.1</td>\n",
       "      <td>21.0</td>\n",
       "      <td>9.5</td>\n",
       "      <td>0.0</td>\n",
       "      <td>83.5</td>\n",
       "      <td>54.0</td>\n",
       "      <td>4.0</td>\n",
       "    </tr>\n",
       "    <tr>\n",
       "      <th>2015-01-04</th>\n",
       "      <td>16.5</td>\n",
       "      <td>18.8</td>\n",
       "      <td>14.6</td>\n",
       "      <td>0.0</td>\n",
       "      <td>88.3</td>\n",
       "      <td>83.0</td>\n",
       "      <td>2.0</td>\n",
       "    </tr>\n",
       "    <tr>\n",
       "      <th>2015-01-05</th>\n",
       "      <td>19.0</td>\n",
       "      <td>22.6</td>\n",
       "      <td>16.5</td>\n",
       "      <td>0.0</td>\n",
       "      <td>87.0</td>\n",
       "      <td>72.0</td>\n",
       "      <td>2.0</td>\n",
       "    </tr>\n",
       "  </tbody>\n",
       "</table>\n",
       "</div>"
      ],
      "text/plain": [
       "             Ttb    Tx    Tn    R   Utb    Un  wind\n",
       "date                                               \n",
       "2015-01-01  14.7  25.3   9.3  0.0  75.0  33.0   2.0\n",
       "2015-01-02  13.9  23.5   7.5  0.0  75.8  37.0   4.0\n",
       "2015-01-03  14.1  21.0   9.5  0.0  83.5  54.0   4.0\n",
       "2015-01-04  16.5  18.8  14.6  0.0  88.3  83.0   2.0\n",
       "2015-01-05  19.0  22.6  16.5  0.0  87.0  72.0   2.0"
      ]
     },
     "execution_count": 70,
     "metadata": {},
     "output_type": "execute_result"
    }
   ],
   "source": [
    "dataset.head()"
   ]
  },
  {
   "cell_type": "code",
   "execution_count": 71,
   "id": "3e2ed400",
   "metadata": {},
   "outputs": [
    {
     "data": {
      "text/html": [
       "<div>\n",
       "<style scoped>\n",
       "    .dataframe tbody tr th:only-of-type {\n",
       "        vertical-align: middle;\n",
       "    }\n",
       "\n",
       "    .dataframe tbody tr th {\n",
       "        vertical-align: top;\n",
       "    }\n",
       "\n",
       "    .dataframe thead th {\n",
       "        text-align: right;\n",
       "    }\n",
       "</style>\n",
       "<table border=\"1\" class=\"dataframe\">\n",
       "  <thead>\n",
       "    <tr style=\"text-align: right;\">\n",
       "      <th></th>\n",
       "      <th>Ttb</th>\n",
       "      <th>Tx</th>\n",
       "      <th>Tn</th>\n",
       "      <th>R</th>\n",
       "      <th>Utb</th>\n",
       "      <th>Un</th>\n",
       "      <th>wind</th>\n",
       "    </tr>\n",
       "    <tr>\n",
       "      <th>date</th>\n",
       "      <th></th>\n",
       "      <th></th>\n",
       "      <th></th>\n",
       "      <th></th>\n",
       "      <th></th>\n",
       "      <th></th>\n",
       "      <th></th>\n",
       "    </tr>\n",
       "  </thead>\n",
       "  <tbody>\n",
       "    <tr>\n",
       "      <th>2020-12-27</th>\n",
       "      <td>20.3</td>\n",
       "      <td>24.8</td>\n",
       "      <td>17.3</td>\n",
       "      <td>0.0</td>\n",
       "      <td>83.0</td>\n",
       "      <td>67.0</td>\n",
       "      <td>0.0</td>\n",
       "    </tr>\n",
       "    <tr>\n",
       "      <th>2020-12-28</th>\n",
       "      <td>20.7</td>\n",
       "      <td>23.6</td>\n",
       "      <td>18.8</td>\n",
       "      <td>0.0</td>\n",
       "      <td>88.0</td>\n",
       "      <td>77.0</td>\n",
       "      <td>1.0</td>\n",
       "    </tr>\n",
       "    <tr>\n",
       "      <th>2020-12-29</th>\n",
       "      <td>21.4</td>\n",
       "      <td>25.8</td>\n",
       "      <td>19.9</td>\n",
       "      <td>0.0</td>\n",
       "      <td>86.0</td>\n",
       "      <td>74.0</td>\n",
       "      <td>2.0</td>\n",
       "    </tr>\n",
       "    <tr>\n",
       "      <th>2020-12-30</th>\n",
       "      <td>17.5</td>\n",
       "      <td>20.9</td>\n",
       "      <td>16.2</td>\n",
       "      <td>0.0</td>\n",
       "      <td>50.0</td>\n",
       "      <td>42.0</td>\n",
       "      <td>6.0</td>\n",
       "    </tr>\n",
       "    <tr>\n",
       "      <th>2020-12-31</th>\n",
       "      <td>13.6</td>\n",
       "      <td>19.0</td>\n",
       "      <td>12.1</td>\n",
       "      <td>0.0</td>\n",
       "      <td>57.0</td>\n",
       "      <td>41.0</td>\n",
       "      <td>6.0</td>\n",
       "    </tr>\n",
       "  </tbody>\n",
       "</table>\n",
       "</div>"
      ],
      "text/plain": [
       "             Ttb    Tx    Tn    R   Utb    Un  wind\n",
       "date                                               \n",
       "2020-12-27  20.3  24.8  17.3  0.0  83.0  67.0   0.0\n",
       "2020-12-28  20.7  23.6  18.8  0.0  88.0  77.0   1.0\n",
       "2020-12-29  21.4  25.8  19.9  0.0  86.0  74.0   2.0\n",
       "2020-12-30  17.5  20.9  16.2  0.0  50.0  42.0   6.0\n",
       "2020-12-31  13.6  19.0  12.1  0.0  57.0  41.0   6.0"
      ]
     },
     "execution_count": 71,
     "metadata": {},
     "output_type": "execute_result"
    }
   ],
   "source": [
    "dataset.tail()"
   ]
  },
  {
   "cell_type": "code",
   "execution_count": null,
   "id": "2564470d",
   "metadata": {},
   "outputs": [],
   "source": []
  },
  {
   "cell_type": "markdown",
   "id": "f24fe702",
   "metadata": {},
   "source": [
    "# Data Preprocessing"
   ]
  },
  {
   "cell_type": "code",
   "execution_count": 43,
   "id": "06c7dbca",
   "metadata": {
    "scrolled": false
   },
   "outputs": [
    {
     "name": "stdout",
     "output_type": "stream",
     "text": [
      "<class 'pandas.core.frame.DataFrame'>\n",
      "DatetimeIndex: 2192 entries, 2015-01-01 to 2020-12-31\n",
      "Data columns (total 7 columns):\n",
      " #   Column  Non-Null Count  Dtype  \n",
      "---  ------  --------------  -----  \n",
      " 0   Ttb     2192 non-null   float64\n",
      " 1   Tx      2192 non-null   float64\n",
      " 2   Tn      2192 non-null   float64\n",
      " 3   R       988 non-null    float64\n",
      " 4   Utb     2192 non-null   float64\n",
      " 5   Un      2192 non-null   float64\n",
      " 6   wind    1764 non-null   float64\n",
      "dtypes: float64(7)\n",
      "memory usage: 137.0 KB\n"
     ]
    }
   ],
   "source": [
    "dataset.info()"
   ]
  },
  {
   "cell_type": "code",
   "execution_count": 73,
   "id": "d6e02fe8",
   "metadata": {},
   "outputs": [
    {
     "data": {
      "text/plain": [
       "Ttb     0\n",
       "Tx      0\n",
       "Tn      0\n",
       "R       0\n",
       "Utb     0\n",
       "Un      0\n",
       "wind    0\n",
       "dtype: int64"
      ]
     },
     "execution_count": 73,
     "metadata": {},
     "output_type": "execute_result"
    }
   ],
   "source": [
    "dataset.isna().sum()"
   ]
  },
  {
   "cell_type": "code",
   "execution_count": 44,
   "id": "d9569567",
   "metadata": {},
   "outputs": [],
   "source": [
    "dataset['R'] = dataset['R'].fillna(0.0)\n",
    "dataset['wind'] = dataset['wind'].fillna(0.0)"
   ]
  },
  {
   "cell_type": "code",
   "execution_count": 45,
   "id": "d8439b82",
   "metadata": {},
   "outputs": [
    {
     "name": "stdout",
     "output_type": "stream",
     "text": [
      "<class 'pandas.core.frame.DataFrame'>\n",
      "DatetimeIndex: 2192 entries, 2015-01-01 to 2020-12-31\n",
      "Data columns (total 7 columns):\n",
      " #   Column  Non-Null Count  Dtype  \n",
      "---  ------  --------------  -----  \n",
      " 0   Ttb     2192 non-null   float64\n",
      " 1   Tx      2192 non-null   float64\n",
      " 2   Tn      2192 non-null   float64\n",
      " 3   R       2192 non-null   float64\n",
      " 4   Utb     2192 non-null   float64\n",
      " 5   Un      2192 non-null   float64\n",
      " 6   wind    2192 non-null   float64\n",
      "dtypes: float64(7)\n",
      "memory usage: 137.0 KB\n"
     ]
    }
   ],
   "source": [
    "dataset.info()"
   ]
  },
  {
   "cell_type": "markdown",
   "id": "53ccffc2",
   "metadata": {},
   "source": [
    "# Splitting Dataset"
   ]
  },
  {
   "cell_type": "code",
   "execution_count": 48,
   "id": "8b9e2f1d",
   "metadata": {},
   "outputs": [],
   "source": [
    "from keras.preprocessing.sequence import TimeseriesGenerator"
   ]
  },
  {
   "cell_type": "code",
   "execution_count": 66,
   "id": "c1ac796c",
   "metadata": {},
   "outputs": [
    {
     "name": "stdout",
     "output_type": "stream",
     "text": [
      "2000 162\n"
     ]
    }
   ],
   "source": [
    "\n",
    "data_train = dataset[:2030].values.reshape((len(dataset[:2030]), len(dataset.columns)))\n",
    "data_test = dataset[2000:].values.reshape((len(dataset[2000:]), len(dataset.columns)))\n",
    "\n",
    "n_input = 30\n",
    "generator_train = TimeseriesGenerator(data=data_train, targets=data_train, length=n_input, batch_size=1)\n",
    "generator_test = TimeseriesGenerator(data=data_test, targets=data_test, length=n_input, batch_size=1)\n",
    "\n",
    "print(len(generator_train), len(generator_test))"
   ]
  },
  {
   "cell_type": "code",
   "execution_count": 54,
   "id": "6d342031",
   "metadata": {},
   "outputs": [],
   "source": [
    "from keras.models import Sequential\n",
    "from keras.layers import Dense\n",
    "from keras.layers import LSTM\n",
    "from keras.layers import RepeatVector\n",
    "from keras.layers import TimeDistributed"
   ]
  },
  {
   "cell_type": "code",
   "execution_count": 68,
   "id": "23ecf1ae",
   "metadata": {
    "scrolled": true
   },
   "outputs": [
    {
     "name": "stdout",
     "output_type": "stream",
     "text": [
      "Model: \"sequential_4\"\n",
      "_________________________________________________________________\n",
      " Layer (type)                Output Shape              Param #   \n",
      "=================================================================\n",
      " lstm_6 (LSTM)               (None, 50)                11600     \n",
      "                                                                 \n",
      " repeat_vector_2 (RepeatVect  (None, 1, 50)            0         \n",
      " or)                                                             \n",
      "                                                                 \n",
      " lstm_7 (LSTM)               (None, 1, 50)             20200     \n",
      "                                                                 \n",
      " time_distributed_2 (TimeDis  (None, 1, 7)             357       \n",
      " tributed)                                                       \n",
      "                                                                 \n",
      "=================================================================\n",
      "Total params: 32,157\n",
      "Trainable params: 32,157\n",
      "Non-trainable params: 0\n",
      "_________________________________________________________________\n"
     ]
    }
   ],
   "source": [
    "n_features = 7\n",
    "model = Sequential()\n",
    "model.add(LSTM(units=50, activation='tanh', input_shape=(n_input, n_features)))\n",
    "model.add(RepeatVector(1))\n",
    "model.add(LSTM(units=50, activation='tanh', return_sequences=True))\n",
    "model.add(TimeDistributed(Dense(7)))\n",
    "model.compile(optimizer='adam', loss='mse')\n",
    "model.summary()"
   ]
  },
  {
   "cell_type": "code",
   "execution_count": 69,
   "id": "b3f46f73",
   "metadata": {},
   "outputs": [
    {
     "name": "stdout",
     "output_type": "stream",
     "text": [
      "Epoch 1/10\n",
      "2000/2000 [==============================] - 19s 8ms/step - loss: 79.9203\n",
      "Epoch 2/10\n",
      "2000/2000 [==============================] - 16s 8ms/step - loss: 66.3650\n",
      "Epoch 3/10\n",
      "2000/2000 [==============================] - 17s 8ms/step - loss: 66.4063\n",
      "Epoch 4/10\n",
      "2000/2000 [==============================] - 16s 8ms/step - loss: 66.3968\n",
      "Epoch 5/10\n",
      "2000/2000 [==============================] - 16s 8ms/step - loss: 66.4130\n",
      "Epoch 6/10\n",
      "2000/2000 [==============================] - 16s 8ms/step - loss: 66.2130\n",
      "Epoch 7/10\n",
      "2000/2000 [==============================] - 16s 8ms/step - loss: 66.4050\n",
      "Epoch 8/10\n",
      "2000/2000 [==============================] - 16s 8ms/step - loss: 66.2720\n",
      "Epoch 9/10\n",
      "2000/2000 [==============================] - 16s 8ms/step - loss: 66.2469\n",
      "Epoch 10/10\n",
      "2000/2000 [==============================] - 16s 8ms/step - loss: 66.3859\n"
     ]
    },
    {
     "data": {
      "text/plain": [
       "<keras.callbacks.History at 0x234bed5a950>"
      ]
     },
     "execution_count": 69,
     "metadata": {},
     "output_type": "execute_result"
    }
   ],
   "source": [
    "model.fit(generator_train, epochs = 10, verbose =1)"
   ]
  },
  {
   "cell_type": "code",
   "execution_count": null,
   "id": "9c7b2b9b",
   "metadata": {},
   "outputs": [],
   "source": []
  },
  {
   "cell_type": "code",
   "execution_count": null,
   "id": "5258af59",
   "metadata": {},
   "outputs": [],
   "source": []
  },
  {
   "cell_type": "code",
   "execution_count": null,
   "id": "7982eb96",
   "metadata": {},
   "outputs": [],
   "source": []
  }
 ],
 "metadata": {
  "kernelspec": {
   "display_name": "Python 3 (ipykernel)",
   "language": "python",
   "name": "python3"
  },
  "language_info": {
   "codemirror_mode": {
    "name": "ipython",
    "version": 3
   },
   "file_extension": ".py",
   "mimetype": "text/x-python",
   "name": "python",
   "nbconvert_exporter": "python",
   "pygments_lexer": "ipython3",
   "version": "3.10.6"
  }
 },
 "nbformat": 4,
 "nbformat_minor": 5
}
