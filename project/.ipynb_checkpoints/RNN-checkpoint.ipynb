{
 "cells": [
  {
   "cell_type": "markdown",
   "id": "1c188453",
   "metadata": {},
   "source": [
    "## Import libraries"
   ]
  },
  {
   "cell_type": "code",
   "execution_count": 1,
   "id": "4cedb9f2",
   "metadata": {},
   "outputs": [],
   "source": [
    "import numpy as np\n",
    "import pandas as pd\n",
    "import matplotlib.pyplot as plt\n",
    "from tensorflow import keras\n",
    "from keras.models import Sequential\n",
    "from keras.layers import Dense, RNN, SimpleRNN"
   ]
  },
  {
   "cell_type": "markdown",
   "id": "183677fd",
   "metadata": {},
   "source": [
    "## Parameters"
   ]
  },
  {
   "cell_type": "code",
   "execution_count": 21,
   "id": "85d655be",
   "metadata": {},
   "outputs": [],
   "source": [
    "train_test_rate = 0.2\n",
    "n_timestep = 3\n",
    "n_feature = 6"
   ]
  },
  {
   "cell_type": "markdown",
   "id": "a630b6bd",
   "metadata": {},
   "source": [
    "## Load Dataset"
   ]
  },
  {
   "cell_type": "code",
   "execution_count": 2,
   "id": "9bf4c132",
   "metadata": {},
   "outputs": [],
   "source": [
    "dataset = pd.read_csv('processed_data/dataset.csv', index_col='date', parse_dates=True)\n",
    "unnoise_dataset = pd.read_csv('processed_data/unnoise_dataset.csv', index_col='date', parse_dates=True)"
   ]
  },
  {
   "cell_type": "code",
   "execution_count": 3,
   "id": "52da1e3d",
   "metadata": {},
   "outputs": [
    {
     "data": {
      "text/html": [
       "<div>\n",
       "<style scoped>\n",
       "    .dataframe tbody tr th:only-of-type {\n",
       "        vertical-align: middle;\n",
       "    }\n",
       "\n",
       "    .dataframe tbody tr th {\n",
       "        vertical-align: top;\n",
       "    }\n",
       "\n",
       "    .dataframe thead th {\n",
       "        text-align: right;\n",
       "    }\n",
       "</style>\n",
       "<table border=\"1\" class=\"dataframe\">\n",
       "  <thead>\n",
       "    <tr style=\"text-align: right;\">\n",
       "      <th></th>\n",
       "      <th>Ttb</th>\n",
       "      <th>Tx</th>\n",
       "      <th>Tn</th>\n",
       "      <th>R</th>\n",
       "      <th>Utb</th>\n",
       "      <th>Un</th>\n",
       "    </tr>\n",
       "    <tr>\n",
       "      <th>date</th>\n",
       "      <th></th>\n",
       "      <th></th>\n",
       "      <th></th>\n",
       "      <th></th>\n",
       "      <th></th>\n",
       "      <th></th>\n",
       "    </tr>\n",
       "  </thead>\n",
       "  <tbody>\n",
       "    <tr>\n",
       "      <th>2015-01-01</th>\n",
       "      <td>14.7</td>\n",
       "      <td>25.3</td>\n",
       "      <td>9.3</td>\n",
       "      <td>0.0</td>\n",
       "      <td>75.0</td>\n",
       "      <td>33.0</td>\n",
       "    </tr>\n",
       "    <tr>\n",
       "      <th>2015-01-02</th>\n",
       "      <td>13.9</td>\n",
       "      <td>23.5</td>\n",
       "      <td>7.5</td>\n",
       "      <td>0.0</td>\n",
       "      <td>75.8</td>\n",
       "      <td>37.0</td>\n",
       "    </tr>\n",
       "    <tr>\n",
       "      <th>2015-01-03</th>\n",
       "      <td>14.1</td>\n",
       "      <td>21.0</td>\n",
       "      <td>9.5</td>\n",
       "      <td>0.0</td>\n",
       "      <td>83.5</td>\n",
       "      <td>54.0</td>\n",
       "    </tr>\n",
       "    <tr>\n",
       "      <th>2015-01-04</th>\n",
       "      <td>16.5</td>\n",
       "      <td>18.8</td>\n",
       "      <td>14.6</td>\n",
       "      <td>0.0</td>\n",
       "      <td>88.3</td>\n",
       "      <td>83.0</td>\n",
       "    </tr>\n",
       "    <tr>\n",
       "      <th>2015-01-05</th>\n",
       "      <td>19.0</td>\n",
       "      <td>22.6</td>\n",
       "      <td>16.5</td>\n",
       "      <td>1.0</td>\n",
       "      <td>87.0</td>\n",
       "      <td>72.0</td>\n",
       "    </tr>\n",
       "  </tbody>\n",
       "</table>\n",
       "</div>"
      ],
      "text/plain": [
       "             Ttb    Tx    Tn    R   Utb    Un\n",
       "date                                         \n",
       "2015-01-01  14.7  25.3   9.3  0.0  75.0  33.0\n",
       "2015-01-02  13.9  23.5   7.5  0.0  75.8  37.0\n",
       "2015-01-03  14.1  21.0   9.5  0.0  83.5  54.0\n",
       "2015-01-04  16.5  18.8  14.6  0.0  88.3  83.0\n",
       "2015-01-05  19.0  22.6  16.5  1.0  87.0  72.0"
      ]
     },
     "execution_count": 3,
     "metadata": {},
     "output_type": "execute_result"
    }
   ],
   "source": [
    "dataset.head()"
   ]
  },
  {
   "cell_type": "code",
   "execution_count": 4,
   "id": "f9f48134",
   "metadata": {},
   "outputs": [
    {
     "data": {
      "text/html": [
       "<div>\n",
       "<style scoped>\n",
       "    .dataframe tbody tr th:only-of-type {\n",
       "        vertical-align: middle;\n",
       "    }\n",
       "\n",
       "    .dataframe tbody tr th {\n",
       "        vertical-align: top;\n",
       "    }\n",
       "\n",
       "    .dataframe thead th {\n",
       "        text-align: right;\n",
       "    }\n",
       "</style>\n",
       "<table border=\"1\" class=\"dataframe\">\n",
       "  <thead>\n",
       "    <tr style=\"text-align: right;\">\n",
       "      <th></th>\n",
       "      <th>Ttb</th>\n",
       "      <th>Tx</th>\n",
       "      <th>Tn</th>\n",
       "      <th>R</th>\n",
       "      <th>Utb</th>\n",
       "      <th>Un</th>\n",
       "    </tr>\n",
       "    <tr>\n",
       "      <th>date</th>\n",
       "      <th></th>\n",
       "      <th></th>\n",
       "      <th></th>\n",
       "      <th></th>\n",
       "      <th></th>\n",
       "      <th></th>\n",
       "    </tr>\n",
       "  </thead>\n",
       "  <tbody>\n",
       "    <tr>\n",
       "      <th>2015-01-01</th>\n",
       "      <td>13.9</td>\n",
       "      <td>23.5</td>\n",
       "      <td>7.5</td>\n",
       "      <td>0.0</td>\n",
       "      <td>75.0</td>\n",
       "      <td>33.0</td>\n",
       "    </tr>\n",
       "    <tr>\n",
       "      <th>2015-01-02</th>\n",
       "      <td>14.1</td>\n",
       "      <td>23.5</td>\n",
       "      <td>9.3</td>\n",
       "      <td>0.0</td>\n",
       "      <td>75.8</td>\n",
       "      <td>37.0</td>\n",
       "    </tr>\n",
       "    <tr>\n",
       "      <th>2015-01-03</th>\n",
       "      <td>14.1</td>\n",
       "      <td>21.0</td>\n",
       "      <td>9.5</td>\n",
       "      <td>0.0</td>\n",
       "      <td>83.5</td>\n",
       "      <td>54.0</td>\n",
       "    </tr>\n",
       "    <tr>\n",
       "      <th>2015-01-04</th>\n",
       "      <td>16.5</td>\n",
       "      <td>21.0</td>\n",
       "      <td>14.6</td>\n",
       "      <td>0.0</td>\n",
       "      <td>87.0</td>\n",
       "      <td>72.0</td>\n",
       "    </tr>\n",
       "    <tr>\n",
       "      <th>2015-01-05</th>\n",
       "      <td>19.0</td>\n",
       "      <td>22.6</td>\n",
       "      <td>16.5</td>\n",
       "      <td>1.0</td>\n",
       "      <td>88.3</td>\n",
       "      <td>72.0</td>\n",
       "    </tr>\n",
       "  </tbody>\n",
       "</table>\n",
       "</div>"
      ],
      "text/plain": [
       "             Ttb    Tx    Tn    R   Utb    Un\n",
       "date                                         \n",
       "2015-01-01  13.9  23.5   7.5  0.0  75.0  33.0\n",
       "2015-01-02  14.1  23.5   9.3  0.0  75.8  37.0\n",
       "2015-01-03  14.1  21.0   9.5  0.0  83.5  54.0\n",
       "2015-01-04  16.5  21.0  14.6  0.0  87.0  72.0\n",
       "2015-01-05  19.0  22.6  16.5  1.0  88.3  72.0"
      ]
     },
     "execution_count": 4,
     "metadata": {},
     "output_type": "execute_result"
    }
   ],
   "source": [
    "unnoise_dataset.head()"
   ]
  },
  {
   "cell_type": "markdown",
   "id": "5ee4ce08",
   "metadata": {},
   "source": [
    "## Generate Dataset"
   ]
  },
  {
   "cell_type": "markdown",
   "id": "28c24e52",
   "metadata": {},
   "source": [
    "### Scaling"
   ]
  },
  {
   "cell_type": "code",
   "execution_count": 5,
   "id": "427a89ff",
   "metadata": {},
   "outputs": [],
   "source": [
    "from sklearn.preprocessing import MinMaxScaler"
   ]
  },
  {
   "cell_type": "code",
   "execution_count": 10,
   "id": "82b11b92",
   "metadata": {},
   "outputs": [],
   "source": [
    "scaler = MinMaxScaler()\n",
    "scaled_unnoise_dataset = scaler.fit_transform(unnoise_dataset)"
   ]
  },
  {
   "cell_type": "code",
   "execution_count": 12,
   "id": "7f56f0b6",
   "metadata": {
    "scrolled": true
   },
   "outputs": [
    {
     "data": {
      "text/plain": [
       "array([[0.28979592, 0.49484536, 0.14893617, 0.        , 0.51546392,\n",
       "        0.09722222],\n",
       "       [0.29795918, 0.49484536, 0.22553191, 0.        , 0.53195876,\n",
       "        0.15277778],\n",
       "       [0.29795918, 0.40893471, 0.23404255, 0.        , 0.69072165,\n",
       "        0.38888889],\n",
       "       [0.39591837, 0.40893471, 0.45106383, 0.        , 0.7628866 ,\n",
       "        0.63888889],\n",
       "       [0.49795918, 0.46391753, 0.53191489, 1.        , 0.78969072,\n",
       "        0.63888889]])"
      ]
     },
     "execution_count": 12,
     "metadata": {},
     "output_type": "execute_result"
    }
   ],
   "source": [
    "scaled_unnoise_dataset[:5]"
   ]
  },
  {
   "cell_type": "markdown",
   "id": "cc4e208c",
   "metadata": {},
   "source": [
    "### Train-test split"
   ]
  },
  {
   "cell_type": "code",
   "execution_count": 13,
   "id": "c144c3b0",
   "metadata": {},
   "outputs": [],
   "source": [
    "def train_test_split(data, rate=0.3):\n",
    "    idx = int((1 - rate)*len(data))\n",
    "    return np.array(data[:idx]), np.array(data[idx:])"
   ]
  },
  {
   "cell_type": "code",
   "execution_count": 15,
   "id": "169234ce",
   "metadata": {},
   "outputs": [],
   "source": [
    "train_set, test_set = train_test_split(data=scaled_unnoise_dataset, rate=train_test_rate)"
   ]
  },
  {
   "cell_type": "code",
   "execution_count": 16,
   "id": "dcb3a8c7",
   "metadata": {},
   "outputs": [
    {
     "data": {
      "text/plain": [
       "((1753, 6), (439, 6))"
      ]
     },
     "execution_count": 16,
     "metadata": {},
     "output_type": "execute_result"
    }
   ],
   "source": [
    "train_set.shape, test_set.shape"
   ]
  },
  {
   "cell_type": "markdown",
   "id": "d223ceec",
   "metadata": {},
   "source": [
    "### Timestep split"
   ]
  },
  {
   "cell_type": "markdown",
   "id": "dfc7de59",
   "metadata": {},
   "source": [
    "def timestep_split(data, n_step):\n",
    "    X, y = [], []\n",
    "    \n",
    "    length = len(data)\n",
    "    for i in range(length - n_step):\n",
    "        end_idx = i + n_step\n",
    "        seq_X = data[i:end_idx]\n",
    "        seq_y = data[end_idx]\n",
    "        X.append(seq_X)\n",
    "        y.append(seq_y)\n",
    "    \n",
    "    return np.array(X), np.array(y)"
   ]
  },
  {
   "cell_type": "code",
   "execution_count": 19,
   "id": "b0218232",
   "metadata": {},
   "outputs": [],
   "source": [
    "X_train, y_train = timestep_split(data=train_set, n_step=n_timestep)\n",
    "X_test, y_test = timestep_split(data=test_set, n_step=n_timestep)"
   ]
  },
  {
   "cell_type": "code",
   "execution_count": 20,
   "id": "efc90807",
   "metadata": {},
   "outputs": [
    {
     "data": {
      "text/plain": [
       "(1750, 3, 6)"
      ]
     },
     "execution_count": 20,
     "metadata": {},
     "output_type": "execute_result"
    }
   ],
   "source": [
    "X_train.shape"
   ]
  },
  {
   "cell_type": "markdown",
   "id": "ef76856f",
   "metadata": {},
   "source": [
    "## Build model"
   ]
  },
  {
   "cell_type": "code",
   "execution_count": 23,
   "id": "92601718",
   "metadata": {},
   "outputs": [
    {
     "name": "stdout",
     "output_type": "stream",
     "text": [
      "Model: \"sequential_1\"\n",
      "_________________________________________________________________\n",
      " Layer (type)                Output Shape              Param #   \n",
      "=================================================================\n",
      " simple_rnn_2 (SimpleRNN)    (None, 3, 128)            17280     \n",
      "                                                                 \n",
      " simple_rnn_3 (SimpleRNN)    (None, 128)               32896     \n",
      "                                                                 \n",
      " dense_1 (Dense)             (None, 6)                 774       \n",
      "                                                                 \n",
      "=================================================================\n",
      "Total params: 50,950\n",
      "Trainable params: 50,950\n",
      "Non-trainable params: 0\n",
      "_________________________________________________________________\n"
     ]
    }
   ],
   "source": [
    "model = Sequential()\n",
    "model.add(SimpleRNN(units=128, activation='relu', input_shape=(n_timestep, n_feature), return_sequences=True))\n",
    "model.add(SimpleRNN(units=128, activation='relu'))\n",
    "model.add(Dense(units=6, activation='sigmoid'))\n",
    "\n",
    "model.summary()"
   ]
  },
  {
   "cell_type": "markdown",
   "id": "68703661",
   "metadata": {},
   "source": [
    "## Train"
   ]
  },
  {
   "cell_type": "code",
   "execution_count": null,
   "id": "f145821a",
   "metadata": {},
   "outputs": [],
   "source": []
  },
  {
   "cell_type": "code",
   "execution_count": null,
   "id": "d9c03066",
   "metadata": {},
   "outputs": [],
   "source": []
  },
  {
   "cell_type": "code",
   "execution_count": null,
   "id": "8f5a4345",
   "metadata": {},
   "outputs": [],
   "source": []
  }
 ],
 "metadata": {
  "kernelspec": {
   "display_name": "Python 3 (ipykernel)",
   "language": "python",
   "name": "python3"
  },
  "language_info": {
   "codemirror_mode": {
    "name": "ipython",
    "version": 3
   },
   "file_extension": ".py",
   "mimetype": "text/x-python",
   "name": "python",
   "nbconvert_exporter": "python",
   "pygments_lexer": "ipython3",
   "version": "3.10.6"
  }
 },
 "nbformat": 4,
 "nbformat_minor": 5
}
